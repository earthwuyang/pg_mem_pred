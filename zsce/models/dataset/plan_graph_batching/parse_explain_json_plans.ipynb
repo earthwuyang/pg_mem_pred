{
 "cells": [
  {
   "cell_type": "code",
   "execution_count": 3,
   "metadata": {},
   "outputs": [],
   "source": [
    "import json\n",
    "import collections\n",
    "import os\n",
    "from types import SimpleNamespace\n",
    "\n",
    "explain_plan = {'Plan': {'Node Type': 'Aggregate', 'Strategy': 'Plain', 'Partial Mode': 'Simple', 'Parallel Aware': False, 'Async Capable': False, 'Startup Cost': 2.74, 'Total Cost': 2.75, 'Plan Rows': 1, 'Plan Width': 32, 'Output': ['avg((nation.n_regionkey + nation.n_nationkey))'], 'Plans': [{'Node Type': 'Hash Join', 'Parent Relationship': 'Outer', 'Parallel Aware': False, 'Async Capable': False, 'Join Type': 'Inner', 'Startup Cost': 1.11, 'Total Cost': 2.66, 'Plan Rows': 16, 'Plan Width': 8, 'Output': ['nation.n_regionkey', 'nation.n_nationkey'], 'Inner Unique': False, 'Hash Cond': '(nation.n_regionkey = region.r_regionkey)', 'Plans': [{'Node Type': 'Seq Scan', 'Parent Relationship': 'Outer', 'Parallel Aware': False, 'Async Capable': False, 'Relation Name': 'nation', 'Schema': 'public', 'Alias': 'nation', 'Startup Cost': 0.0, 'Total Cost': 1.31, 'Plan Rows': 20, 'Plan Width': 8, 'Output': ['nation.n_nationkey', 'nation.n_name', 'nation.n_regionkey', 'nation.n_comment'], 'Filter': '(nation.n_regionkey <> 3)'}, {'Node Type': 'Hash', 'Parent Relationship': 'Inner', 'Parallel Aware': False, 'Async Capable': False, 'Startup Cost': 1.06, 'Total Cost': 1.06, 'Plan Rows': 4, 'Plan Width': 4, 'Output': ['region.r_regionkey'], 'Plans': [{'Node Type': 'Seq Scan', 'Parent Relationship': 'Outer', 'Parallel Aware': False, 'Async Capable': False, 'Relation Name': 'region', 'Schema': 'public', 'Alias': 'region', 'Startup Cost': 0.0, 'Total Cost': 1.06, 'Plan Rows': 4, 'Plan Width': 4, 'Output': ['region.r_regionkey'], 'Filter': '(region.r_regionkey <> 3)'}]}]}]}, 'peakmem': 17220}\n",
    "\n",
    "database_stats_file = '/home/wuy/DB/pg_mem_data/tpch/database_stats.json'\n",
    "\n",
    "with open(database_stats_file, 'r') as f:\n",
    "    database_stats = json.load(f, object_hook=lambda d: SimpleNamespace(**d))"
   ]
  },
  {
   "cell_type": "code",
   "execution_count": 4,
   "metadata": {},
   "outputs": [],
   "source": [
    "column_id_mapping = dict() # map (table, column) to a number\n",
    "table_id_mapping = dict()\n",
    "partial_column_name_mapping = collections.defaultdict(set)\n",
    "\n",
    "# enrich column stats with table sizes\n",
    "table_sizes = dict()\n",
    "for table_stat in database_stats.table_stats:\n",
    "    table_sizes[table_stat.relname] = table_stat.reltuples\n",
    "\n",
    "for i, column_stat in enumerate(database_stats.column_stats):\n",
    "    table = column_stat.tablename\n",
    "    column = column_stat.attname\n",
    "    column_stat.table_size = table_sizes[table]\n",
    "    column_id_mapping[(table, column)] = i\n",
    "    partial_column_name_mapping[column].add(table)\n",
    "\n",
    "# similar for table statistics\n",
    "for i, table_stat in enumerate(database_stats.table_stats):\n",
    "    table = table_stat.relname\n",
    "    table_id_mapping[table] = i\n",
    "\n",
    "# parse individual queries\n",
    "parsed_plans = []\n",
    "avg_runtimes = []\n",
    "no_tables = []\n",
    "no_filters = []\n",
    "op_perc = collections.defaultdict(int)"
   ]
  },
  {
   "cell_type": "code",
   "execution_count": 7,
   "metadata": {},
   "outputs": [],
   "source": [
    "def map_node_type(node_type):\n",
    "    # Map the Node Type to op_name as per your target structure\n",
    "    mapping = {\n",
    "        \"Aggregate\": \"Finalize Aggregate\",\n",
    "        \"Hash Join\": \"Hash Join\",\n",
    "        \"Seq Scan\": \"Sequential Scan\",\n",
    "        \"Hash\": \"Hash\",\n",
    "        # Add other mappings as needed\n",
    "    }\n",
    "    return mapping.get(node_type, node_type)\n",
    "\n",
    "def map_output_columns(output):\n",
    "    # Example mapping function for output columns\n",
    "    # This needs to be customized based on how you want to map output columns\n",
    "    # For demonstration, we'll just return the list as is\n",
    "    return output\n",
    "\n",
    "def transform_plan(node):\n",
    "    transformed = {\n",
    "        \"plain_content\": [],\n",
    "        \"plan_parameters\": {},\n",
    "        \"children\": []\n",
    "    }\n",
    "\n",
    "    # Map Node Type to op_name\n",
    "    node_type = node.get(\"Node Type\", \"\")\n",
    "    transformed[\"plan_parameters\"][\"op_name\"] = map_node_type(node_type)\n",
    "\n",
    "    # Common mappings\n",
    "    transformed[\"plan_parameters\"][\"est_startup_cost\"] = node.get(\"Startup Cost\", 0.0)\n",
    "    transformed[\"plan_parameters\"][\"est_cost\"] = node.get(\"Total Cost\", 0.0)\n",
    "    transformed[\"plan_parameters\"][\"est_card\"] = node.get(\"Plan Rows\", 0.0)\n",
    "    transformed[\"plan_parameters\"][\"est_width\"] = node.get(\"Plan Width\", 0.0)\n",
    "\n",
    "    # Example: Handling specific node types\n",
    "    if node_type == \"Aggregate\":\n",
    "        transformed[\"plan_parameters\"][\"act_startup_cost\"] = node.get(\"Actual Startup\", 0.0)\n",
    "        transformed[\"plan_parameters\"][\"act_time\"] = node.get(\"Actual Total Time\", 0.0)\n",
    "        # Add more mappings as needed\n",
    "    elif node_type == \"Hash Join\":\n",
    "        transformed[\"plan_parameters\"][\"join_type\"] = node.get(\"Join Type\", \"\")\n",
    "        transformed[\"plan_parameters\"][\"hash_cond\"] = node.get(\"Hash Cond\", \"\")\n",
    "    elif node_type == \"Seq Scan\":\n",
    "        transformed[\"plan_parameters\"][\"relation_name\"] = node.get(\"Relation Name\", \"\")\n",
    "        transformed[\"plan_parameters\"][\"filter\"] = node.get(\"Filter\", \"\")\n",
    "\n",
    "    # Handle Output Columns\n",
    "    output = node.get(\"Output\", [])\n",
    "    transformed[\"plan_parameters\"][\"output_columns\"] = map_output_columns(output)\n",
    "\n",
    "    # Handle other parameters as needed\n",
    "\n",
    "    # Recursively handle child plans\n",
    "    child_plans = node.get(\"Plans\", [])\n",
    "    for child in child_plans:\n",
    "        transformed_child = transform_plan(child)\n",
    "        transformed[\"children\"].append(transformed_child)\n",
    "\n",
    "    return transformed\n"
   ]
  },
  {
   "cell_type": "code",
   "execution_count": 8,
   "metadata": {},
   "outputs": [
    {
     "data": {
      "text/plain": [
       "{'plain_content': [],\n",
       " 'plan_parameters': {'op_name': '',\n",
       "  'est_startup_cost': 0.0,\n",
       "  'est_cost': 0.0,\n",
       "  'est_card': 0.0,\n",
       "  'est_width': 0.0,\n",
       "  'output_columns': []},\n",
       " 'children': []}"
      ]
     },
     "execution_count": 8,
     "metadata": {},
     "output_type": "execute_result"
    }
   ],
   "source": [
    "transform_plan(explain_plan)"
   ]
  }
 ],
 "metadata": {
  "kernelspec": {
   "display_name": "zsce",
   "language": "python",
   "name": "python3"
  },
  "language_info": {
   "codemirror_mode": {
    "name": "ipython",
    "version": 3
   },
   "file_extension": ".py",
   "mimetype": "text/x-python",
   "name": "python",
   "nbconvert_exporter": "python",
   "pygments_lexer": "ipython3",
   "version": "3.8.13"
  }
 },
 "nbformat": 4,
 "nbformat_minor": 2
}
