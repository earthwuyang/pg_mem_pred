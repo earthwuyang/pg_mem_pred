{
 "cells": [
  {
   "cell_type": "code",
   "execution_count": null,
   "metadata": {},
   "outputs": [],
   "source": [
    "# Define schema and relationships (example)\n",
    "schema = {'tables': ['table1', 'table2', 'table3']}\n",
    "relationships_table = {\n",
    "    'table1': [('column1', 'table2', 'column2')],\n",
    "    'table2': [('column2', 'table3', 'column3')],\n",
    "    'table3': []\n",
    "}\n",
    "\n",
    "# Random state initialization\n",
    "import numpy as np\n",
    "randstate = np.random.RandomState(seed=42)\n",
    "\n",
    "# Generate a random acyclic join\n",
    "start_table, joins, joined_tables = sample_acyclic_join(\n",
    "    no_joins=2,\n",
    "    relationships_table=relationships_table,\n",
    "    schema=schema,\n",
    "    randstate=randstate,\n",
    "    left_outer_join_ratio=0.2\n",
    ")\n",
    "\n",
    "print(f\"Start Table: {start_table}\")\n",
    "print(f\"Joins: {joins}\")\n",
    "print(f\"Joined Tables: {joined_tables}\")\n"
   ]
  }
 ],
 "metadata": {
  "kernelspec": {
   "display_name": "zsce",
   "language": "python",
   "name": "python3"
  },
  "language_info": {
   "name": "python",
   "version": "3.8.13"
  }
 },
 "nbformat": 4,
 "nbformat_minor": 2
}
