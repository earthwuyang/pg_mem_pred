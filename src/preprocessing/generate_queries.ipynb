{
 "cells": [
  {
   "cell_type": "code",
   "execution_count": 4,
   "metadata": {},
   "outputs": [
    {
     "ename": "AttributeError",
     "evalue": "'dict' object has no attribute 'tables'",
     "output_type": "error",
     "traceback": [
      "\u001b[0;31m---------------------------------------------------------------------------\u001b[0m",
      "\u001b[0;31mAttributeError\u001b[0m                            Traceback (most recent call last)",
      "Cell \u001b[0;32mIn[4], line 18\u001b[0m\n\u001b[1;32m     15\u001b[0m randstate \u001b[38;5;241m=\u001b[39m np\u001b[38;5;241m.\u001b[39mrandom\u001b[38;5;241m.\u001b[39mRandomState(seed\u001b[38;5;241m=\u001b[39m\u001b[38;5;241m42\u001b[39m)\n\u001b[1;32m     17\u001b[0m \u001b[38;5;66;03m# Generate a random acyclic join\u001b[39;00m\n\u001b[0;32m---> 18\u001b[0m start_table, joins, joined_tables \u001b[38;5;241m=\u001b[39m \u001b[43msample_acyclic_join\u001b[49m\u001b[43m(\u001b[49m\n\u001b[1;32m     19\u001b[0m \u001b[43m    \u001b[49m\u001b[43mno_joins\u001b[49m\u001b[38;5;241;43m=\u001b[39;49m\u001b[38;5;241;43m2\u001b[39;49m\u001b[43m,\u001b[49m\n\u001b[1;32m     20\u001b[0m \u001b[43m    \u001b[49m\u001b[43mrelationships_table\u001b[49m\u001b[38;5;241;43m=\u001b[39;49m\u001b[43mrelationships_table\u001b[49m\u001b[43m,\u001b[49m\n\u001b[1;32m     21\u001b[0m \u001b[43m    \u001b[49m\u001b[43mschema\u001b[49m\u001b[38;5;241;43m=\u001b[39;49m\u001b[43mschema\u001b[49m\u001b[43m,\u001b[49m\n\u001b[1;32m     22\u001b[0m \u001b[43m    \u001b[49m\u001b[43mrandstate\u001b[49m\u001b[38;5;241;43m=\u001b[39;49m\u001b[43mrandstate\u001b[49m\u001b[43m,\u001b[49m\n\u001b[1;32m     23\u001b[0m \u001b[43m    \u001b[49m\u001b[43mleft_outer_join_ratio\u001b[49m\u001b[38;5;241;43m=\u001b[39;49m\u001b[38;5;241;43m0.2\u001b[39;49m\n\u001b[1;32m     24\u001b[0m \u001b[43m)\u001b[49m\n\u001b[1;32m     26\u001b[0m \u001b[38;5;28mprint\u001b[39m(\u001b[38;5;124mf\u001b[39m\u001b[38;5;124m\"\u001b[39m\u001b[38;5;124mStart Table: \u001b[39m\u001b[38;5;132;01m{\u001b[39;00mstart_table\u001b[38;5;132;01m}\u001b[39;00m\u001b[38;5;124m\"\u001b[39m)\n\u001b[1;32m     27\u001b[0m \u001b[38;5;28mprint\u001b[39m(\u001b[38;5;124mf\u001b[39m\u001b[38;5;124m\"\u001b[39m\u001b[38;5;124mJoins: \u001b[39m\u001b[38;5;132;01m{\u001b[39;00mjoins\u001b[38;5;132;01m}\u001b[39;00m\u001b[38;5;124m\"\u001b[39m)\n",
      "File \u001b[0;32m~/DB/memory_prediction/zsce/cross_db_benchmark/benchmark_tools/generate_workload.py:747\u001b[0m, in \u001b[0;36msample_acyclic_join\u001b[0;34m(no_joins, relationships_table, schema, randstate, left_outer_join_ratio)\u001b[0m\n\u001b[1;32m    744\u001b[0m \u001b[38;5;28;01mdef\u001b[39;00m \u001b[38;5;21msample_acyclic_join\u001b[39m(no_joins, relationships_table, schema, randstate, left_outer_join_ratio):\n\u001b[1;32m    745\u001b[0m     \u001b[38;5;66;03m# randomly sample join\u001b[39;00m\n\u001b[1;32m    746\u001b[0m     joins \u001b[38;5;241m=\u001b[39m \u001b[38;5;28mlist\u001b[39m()\n\u001b[0;32m--> 747\u001b[0m     start_t \u001b[38;5;241m=\u001b[39m rand_choice(randstate, \u001b[43mschema\u001b[49m\u001b[38;5;241;43m.\u001b[39;49m\u001b[43mtables\u001b[49m)\n\u001b[1;32m    748\u001b[0m     join_tables \u001b[38;5;241m=\u001b[39m {start_t}\n\u001b[1;32m    750\u001b[0m     \u001b[38;5;28;01mfor\u001b[39;00m i \u001b[38;5;129;01min\u001b[39;00m \u001b[38;5;28mrange\u001b[39m(no_joins):\n",
      "\u001b[0;31mAttributeError\u001b[0m: 'dict' object has no attribute 'tables'"
     ]
    }
   ],
   "source": [
    "import sys\n",
    "sys.path.append('/home/wuy/DB/memory_prediction/zsce/cross_db_benchmark/benchmark_tools')\n",
    "from generate_workload import sample_acyclic_join\n",
    "\n",
    "# Define schema and relationships (example)\n",
    "schema = {'tables': ['table1', 'table2', 'table3']}\n",
    "relationships_table = {\n",
    "    'table1': [('column1', 'table2', 'column2')],\n",
    "    'table2': [('column2', 'table3', 'column3')],\n",
    "    'table3': []\n",
    "}\n",
    "\n",
    "# Random state initialization\n",
    "import numpy as np\n",
    "randstate = np.random.RandomState(seed=42)\n",
    "\n",
    "# Generate a random acyclic join\n",
    "start_table, joins, joined_tables = sample_acyclic_join(\n",
    "    no_joins=2,\n",
    "    relationships_table=relationships_table,\n",
    "    schema=schema,\n",
    "    randstate=randstate,\n",
    "    left_outer_join_ratio=0.2\n",
    ")\n",
    "\n",
    "print(f\"Start Table: {start_table}\")\n",
    "print(f\"Joins: {joins}\")\n",
    "print(f\"Joined Tables: {joined_tables}\")\n"
   ]
  }
 ],
 "metadata": {
  "kernelspec": {
   "display_name": "zsce",
   "language": "python",
   "name": "python3"
  },
  "language_info": {
   "codemirror_mode": {
    "name": "ipython",
    "version": 3
   },
   "file_extension": ".py",
   "mimetype": "text/x-python",
   "name": "python",
   "nbconvert_exporter": "python",
   "pygments_lexer": "ipython3",
   "version": "3.8.13"
  }
 },
 "nbformat": 4,
 "nbformat_minor": 2
}
