{
 "cells": [
  {
   "cell_type": "code",
   "execution_count": 1,
   "metadata": {},
   "outputs": [
    {
     "name": "stdout",
     "output_type": "stream",
     "text": [
      "filter_expression: (partsupp.ps_supplycost <= 48.34356607843329)\n",
      "match_simple: None\n",
      "None\n"
     ]
    }
   ],
   "source": [
    "import re\n",
    "\n",
    "# Assuming a column to ID mapping\n",
    "column_id_mapping = {\n",
    "    ('partsupp', 'ps_supplycost'): 0\n",
    "}\n",
    "\n",
    "def parse_filter(filter_expression):\n",
    "    print(f\"filter_expression: {filter_expression}\")\n",
    "    \n",
    "    # Compound filter regex (e.g., \"(col1 = 5 AND col2 > 3)\")\n",
    "    compound_regex = re.compile(r'\\(\\s*(.*?)\\s*(AND|OR|NOT)\\s*(.*?)\\s*\\)')\n",
    "    \n",
    "    # Simple filter regex (e.g., \"partsupp.ps_supplycost <= 48.34\")\n",
    "    simple_regex = re.compile(r'(\\w+\\.\\w+)\\s*([<>!=]=?|IS NULL|IS NOT NULL)\\s*([\\d\\.\\-]+|\\'.*?\\'|\\\".*?\\\")')\n",
    "\n",
    "    # Check for compound filters (recursively)\n",
    "    match = compound_regex.match(filter_expression)\n",
    "    if match:\n",
    "        left_part = parse_filter(match.group(1).strip())\n",
    "        right_part = parse_filter(match.group(3).strip())\n",
    "        return {\n",
    "            \"column\": None,\n",
    "            \"operator\": match.group(2),\n",
    "            \"literal\": None,\n",
    "            \"literal_feature\": None,\n",
    "            \"children\": [left_part, right_part]\n",
    "        }\n",
    "\n",
    "    # Check for simple filters (e.g., \"partsupp.ps_supplycost <= 48.34\")\n",
    "    match_simple = simple_regex.match(filter_expression)\n",
    "    print(f\"match_simple: {match_simple}\")\n",
    "    if match_simple:\n",
    "        column_name = match_simple.group(1)\n",
    "        operator = match_simple.group(2)\n",
    "        literal = match_simple.group(3).strip('\"\\'')\n",
    "\n",
    "        # Look up the column ID from column_id_mapping\n",
    "        table_column = tuple(column_name.split('.'))\n",
    "        column_id = column_id_mapping.get(table_column)\n",
    "\n",
    "        # Convert literal to appropriate type (int or float)\n",
    "        try:\n",
    "            if '.' in literal:\n",
    "                literal = float(literal)\n",
    "            else:\n",
    "                literal = int(literal)\n",
    "        except ValueError:\n",
    "            # Keep it as a string if conversion fails\n",
    "            pass\n",
    "\n",
    "        return {\n",
    "            \"column\": column_id,  # Use the mapped column ID\n",
    "            \"operator\": operator,\n",
    "            \"literal\": literal,\n",
    "            \"literal_feature\": 0,  # Default feature index\n",
    "            \"children\": []  # No children for simple filters\n",
    "        }\n",
    "\n",
    "    return None  # If unable to parse\n",
    "\n",
    "\n",
    "# Example usage:\n",
    "filter_expression = '(partsupp.ps_supplycost <= 48.34356607843329)'\n",
    "parsed_filter = parse_filter(filter_expression)\n",
    "print(parsed_filter)\n"
   ]
  }
 ],
 "metadata": {
  "kernelspec": {
   "display_name": "zsce",
   "language": "python",
   "name": "python3"
  },
  "language_info": {
   "codemirror_mode": {
    "name": "ipython",
    "version": 3
   },
   "file_extension": ".py",
   "mimetype": "text/x-python",
   "name": "python",
   "nbconvert_exporter": "python",
   "pygments_lexer": "ipython3",
   "version": "3.8.13"
  }
 },
 "nbformat": 4,
 "nbformat_minor": 2
}
