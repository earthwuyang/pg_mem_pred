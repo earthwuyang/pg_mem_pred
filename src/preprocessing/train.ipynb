{
 "cells": [
  {
   "cell_type": "code",
   "execution_count": 1,
   "metadata": {},
   "outputs": [
    {
     "name": "stdout",
     "output_type": "stream",
     "text": [
      "number of training plans: 3\n",
      "number of validation plans: 3\n",
      "number of test plans: 3\n"
     ]
    }
   ],
   "source": [
    "import json\n",
    "import os\n",
    "\n",
    "def load_json(file_path):\n",
    "    \"\"\"\n",
    "    Load parsed query plans from a JSON file.\n",
    "    \n",
    "    Args:\n",
    "        file_path (str): Path to the JSON file.\n",
    "        \n",
    "    Returns:\n",
    "        list: A list of parsed query plans.\n",
    "    \"\"\"\n",
    "    with open(file_path, 'r') as f:\n",
    "        plans = json.load(f)\n",
    "    return plans\n",
    "\n",
    "# Load training and validation plans\n",
    "data_dir = '/home/wuy/DB/pg_mem_data'\n",
    "dataset = 'tpch_sf1'\n",
    "train_json_file = os.path.join(data_dir, dataset, 'zsce', 'train_plans.json')\n",
    "val_json_file = os.path.join(data_dir, dataset, 'zsce', 'val_plans.json')\n",
    "test_json_file = os.path.join(data_dir, dataset, 'zsce', 'test_plans.json')\n",
    "\n",
    "# Load training and validation plans\n",
    "train_plans = load_json(train_json_file)\n",
    "val_plans = load_json(val_json_file)\n",
    "test_plans = load_json(test_json_file)\n",
    "print(f\"number of training plans: {len(train_plans)}\")\n",
    "print(f\"number of validation plans: {len(val_plans)}\")\n",
    "print(f\"number of test plans: {len(test_plans)}\")"
   ]
  },
  {
   "cell_type": "code",
   "execution_count": 2,
   "metadata": {},
   "outputs": [],
   "source": [
    "from collections import defaultdict\n",
    "import numpy as np\n",
    "\n",
    "def extract_features(parsed_plan):\n",
    "    \"\"\"\n",
    "    Extract features from a parsed PostgreSQL query plan.\n",
    "\n",
    "    Args:\n",
    "        parsed_plan (dict): The parsed query plan.\n",
    "\n",
    "    Returns:\n",
    "        dict: A dictionary of aggregated features.\n",
    "    \"\"\"\n",
    "    features = defaultdict(float)\n",
    "    op_counts = defaultdict(int)\n",
    "    numerical_features = defaultdict(list)\n",
    "    max_depth = 0\n",
    "\n",
    "    def traverse(node, depth=1):\n",
    "        nonlocal max_depth\n",
    "        max_depth = max(max_depth, depth)\n",
    "\n",
    "        params = node.get('plan_parameters', {})\n",
    "        op_name = params.get('op_name', 'Unknown')\n",
    "        op_counts[op_name] += 1\n",
    "\n",
    "        # Collect numerical features\n",
    "        numerical_features['est_startup_cost'].append(params.get('est_startup_cost', 0.0))\n",
    "        numerical_features['est_cost'].append(params.get('est_cost', 0.0))\n",
    "        numerical_features['est_card'].append(params.get('est_card', 0.0))\n",
    "        numerical_features['est_width'].append(params.get('est_width', 0.0))\n",
    "        numerical_features['workers_planned'].append(params.get('workers_planned', 0.0))\n",
    "        numerical_features['est_children_card'].append(params.get('est_children_card', 0.0))\n",
    "\n",
    "        # Recursively traverse children\n",
    "        for child in node.get('children', []):\n",
    "            traverse(child, depth + 1)\n",
    "\n",
    "    traverse(parsed_plan)\n",
    "\n",
    "    # Aggregate operation counts\n",
    "    for op, count in op_counts.items():\n",
    "        features[f'op_count_{op}'] = count\n",
    "\n",
    "    # Aggregate numerical features\n",
    "    for feature, values in numerical_features.items():\n",
    "        features[f'{feature}_sum'] = sum(values)\n",
    "        features[f'{feature}_mean'] = np.mean(values) if values else 0.0\n",
    "        features[f'{feature}_max'] = max(values) if values else 0.0\n",
    "        features[f'{feature}_min'] = min(values) if values else 0.0\n",
    "\n",
    "    # Add structural features\n",
    "    features['tree_depth'] = max_depth\n",
    "    features['num_nodes'] = len(numerical_features['est_cost'])\n",
    "\n",
    "    return features\n"
   ]
  },
  {
   "cell_type": "code",
   "execution_count": 3,
   "metadata": {},
   "outputs": [],
   "source": [
    "import pandas as pd\n",
    "from tqdm import tqdm\n",
    "from sklearn.preprocessing import StandardScaler\n",
    "\n",
    "def prepare_dataset(plans):\n",
    "    \"\"\"\n",
    "    Prepare a dataset by extracting features and collecting labels.\n",
    "\n",
    "    Args:\n",
    "        plans (list): A list of parsed query plans.\n",
    "\n",
    "    Returns:\n",
    "        pd.DataFrame: DataFrame containing features.\n",
    "        pd.Series: Series containing labels (peak memory).\n",
    "    \"\"\"\n",
    "    feature_dicts = []\n",
    "    labels = []\n",
    "\n",
    "    for plan in tqdm(plans['parsed_plans']):\n",
    "        features = extract_features(plan)\n",
    "        feature_dicts.append(features)\n",
    "        labels.append(plan.get('peakmem', 0.0))  # Assuming 'peakmem' is the target\n",
    "\n",
    "    # Convert to DataFrame\n",
    "    df_features = pd.DataFrame(feature_dicts)\n",
    "    df_labels = pd.Series(labels, name='peakmem')\n",
    "\n",
    "    # Handle missing values if any\n",
    "    df_features.fillna(0, inplace=True)\n",
    "\n",
    "    # Encode categorical features (if any)\n",
    "    # Assuming 'op_count_*' are categorical; adjust based on actual data\n",
    "    op_count_features = [col for col in df_features.columns if col.startswith('op_count_')]\n",
    "    # If they are counts, you might treat them as numerical\n",
    "    # Otherwise, use label encoding or one-hot encoding as needed\n",
    "\n",
    "    # Feature scaling (optional)\n",
    "    scaler = StandardScaler()\n",
    "    numerical_cols = [col for col in df_features.columns if any(sub in col for sub in ['est_startup_cost', 'est_cost', 'est_card', 'est_width', 'workers_planned', 'est_children_card'])]\n",
    "    df_features[numerical_cols] = scaler.fit_transform(df_features[numerical_cols])\n",
    "\n",
    "    return df_features, df_labels\n",
    "\n",
    "\n"
   ]
  },
  {
   "cell_type": "code",
   "execution_count": 4,
   "metadata": {},
   "outputs": [
    {
     "name": "stderr",
     "output_type": "stream",
     "text": [
      "100%|██████████| 56000/56000 [00:12<00:00, 4472.77it/s]\n",
      "100%|██████████| 7000/7000 [00:01<00:00, 4573.39it/s]\n",
      "100%|██████████| 7000/7000 [00:01<00:00, 4579.80it/s]\n"
     ]
    },
    {
     "name": "stdout",
     "output_type": "stream",
     "text": [
      "Training features shape: (56000, 50)\n",
      "Validation features shape: (7000, 50)\n",
      "Test features shape: (7000, 50)\n"
     ]
    }
   ],
   "source": [
    "# Prepare training and validation datasets\n",
    "X_train, y_train = prepare_dataset(train_plans)\n",
    "X_val, y_val = prepare_dataset(val_plans)\n",
    "X_test, y_test = prepare_dataset(test_plans)\n",
    "\n",
    "# Ensure that the validation set has the same columns as the training set\n",
    "X_val = X_val[X_train.columns]\n",
    "X_test = X_test[X_train.columns]\n",
    "\n",
    "print(\"Training features shape:\", X_train.shape)\n",
    "print(\"Validation features shape:\", X_val.shape)\n",
    "print(\"Test features shape:\", X_test.shape)"
   ]
  },
  {
   "cell_type": "code",
   "execution_count": 5,
   "metadata": {},
   "outputs": [
    {
     "name": "stderr",
     "output_type": "stream",
     "text": [
      "/home/wuy/software/anaconda3/envs/zsce/lib/python3.8/site-packages/xgboost/core.py:265: FutureWarning: Your system has an old version of glibc (< 2.28). We will stop supporting Linux distros with glibc older than 2.28 after **May 31, 2025**. Please upgrade to a recent Linux distro (with glibc 2.28+) to use future versions of XGBoost.\n",
      "Note: You have installed the 'manylinux2014' variant of XGBoost. Certain features such as GPU algorithms or federated learning are not available. To use these features, please upgrade to a recent Linux distro with glibc 2.28+, and install the 'manylinux_2_28' variant.\n",
      "  warnings.warn(\n"
     ]
    },
    {
     "data": {
      "text/html": [
       "<style>#sk-container-id-1 {color: black;}#sk-container-id-1 pre{padding: 0;}#sk-container-id-1 div.sk-toggleable {background-color: white;}#sk-container-id-1 label.sk-toggleable__label {cursor: pointer;display: block;width: 100%;margin-bottom: 0;padding: 0.3em;box-sizing: border-box;text-align: center;}#sk-container-id-1 label.sk-toggleable__label-arrow:before {content: \"▸\";float: left;margin-right: 0.25em;color: #696969;}#sk-container-id-1 label.sk-toggleable__label-arrow:hover:before {color: black;}#sk-container-id-1 div.sk-estimator:hover label.sk-toggleable__label-arrow:before {color: black;}#sk-container-id-1 div.sk-toggleable__content {max-height: 0;max-width: 0;overflow: hidden;text-align: left;background-color: #f0f8ff;}#sk-container-id-1 div.sk-toggleable__content pre {margin: 0.2em;color: black;border-radius: 0.25em;background-color: #f0f8ff;}#sk-container-id-1 input.sk-toggleable__control:checked~div.sk-toggleable__content {max-height: 200px;max-width: 100%;overflow: auto;}#sk-container-id-1 input.sk-toggleable__control:checked~label.sk-toggleable__label-arrow:before {content: \"▾\";}#sk-container-id-1 div.sk-estimator input.sk-toggleable__control:checked~label.sk-toggleable__label {background-color: #d4ebff;}#sk-container-id-1 div.sk-label input.sk-toggleable__control:checked~label.sk-toggleable__label {background-color: #d4ebff;}#sk-container-id-1 input.sk-hidden--visually {border: 0;clip: rect(1px 1px 1px 1px);clip: rect(1px, 1px, 1px, 1px);height: 1px;margin: -1px;overflow: hidden;padding: 0;position: absolute;width: 1px;}#sk-container-id-1 div.sk-estimator {font-family: monospace;background-color: #f0f8ff;border: 1px dotted black;border-radius: 0.25em;box-sizing: border-box;margin-bottom: 0.5em;}#sk-container-id-1 div.sk-estimator:hover {background-color: #d4ebff;}#sk-container-id-1 div.sk-parallel-item::after {content: \"\";width: 100%;border-bottom: 1px solid gray;flex-grow: 1;}#sk-container-id-1 div.sk-label:hover label.sk-toggleable__label {background-color: #d4ebff;}#sk-container-id-1 div.sk-serial::before {content: \"\";position: absolute;border-left: 1px solid gray;box-sizing: border-box;top: 0;bottom: 0;left: 50%;z-index: 0;}#sk-container-id-1 div.sk-serial {display: flex;flex-direction: column;align-items: center;background-color: white;padding-right: 0.2em;padding-left: 0.2em;position: relative;}#sk-container-id-1 div.sk-item {position: relative;z-index: 1;}#sk-container-id-1 div.sk-parallel {display: flex;align-items: stretch;justify-content: center;background-color: white;position: relative;}#sk-container-id-1 div.sk-item::before, #sk-container-id-1 div.sk-parallel-item::before {content: \"\";position: absolute;border-left: 1px solid gray;box-sizing: border-box;top: 0;bottom: 0;left: 50%;z-index: -1;}#sk-container-id-1 div.sk-parallel-item {display: flex;flex-direction: column;z-index: 1;position: relative;background-color: white;}#sk-container-id-1 div.sk-parallel-item:first-child::after {align-self: flex-end;width: 50%;}#sk-container-id-1 div.sk-parallel-item:last-child::after {align-self: flex-start;width: 50%;}#sk-container-id-1 div.sk-parallel-item:only-child::after {width: 0;}#sk-container-id-1 div.sk-dashed-wrapped {border: 1px dashed gray;margin: 0 0.4em 0.5em 0.4em;box-sizing: border-box;padding-bottom: 0.4em;background-color: white;}#sk-container-id-1 div.sk-label label {font-family: monospace;font-weight: bold;display: inline-block;line-height: 1.2em;}#sk-container-id-1 div.sk-label-container {text-align: center;}#sk-container-id-1 div.sk-container {/* jupyter's `normalize.less` sets `[hidden] { display: none; }` but bootstrap.min.css set `[hidden] { display: none !important; }` so we also need the `!important` here to be able to override the default hidden behavior on the sphinx rendered scikit-learn.org. See: https://github.com/scikit-learn/scikit-learn/issues/21755 */display: inline-block !important;position: relative;}#sk-container-id-1 div.sk-text-repr-fallback {display: none;}</style><div id=\"sk-container-id-1\" class=\"sk-top-container\"><div class=\"sk-text-repr-fallback\"><pre>XGBRegressor(base_score=None, booster=None, callbacks=None,\n",
       "             colsample_bylevel=None, colsample_bynode=None,\n",
       "             colsample_bytree=None, device=None, early_stopping_rounds=None,\n",
       "             enable_categorical=False, eval_metric=None, feature_types=None,\n",
       "             gamma=None, grow_policy=None, importance_type=None,\n",
       "             interaction_constraints=None, learning_rate=0.1, max_bin=None,\n",
       "             max_cat_threshold=None, max_cat_to_onehot=None,\n",
       "             max_delta_step=None, max_depth=6, max_leaves=None,\n",
       "             min_child_weight=None, missing=nan, monotone_constraints=None,\n",
       "             multi_strategy=None, n_estimators=100, n_jobs=-1,\n",
       "             num_parallel_tree=None, random_state=42, ...)</pre><b>In a Jupyter environment, please rerun this cell to show the HTML representation or trust the notebook. <br />On GitHub, the HTML representation is unable to render, please try loading this page with nbviewer.org.</b></div><div class=\"sk-container\" hidden><div class=\"sk-item\"><div class=\"sk-estimator sk-toggleable\"><input class=\"sk-toggleable__control sk-hidden--visually\" id=\"sk-estimator-id-1\" type=\"checkbox\" checked><label for=\"sk-estimator-id-1\" class=\"sk-toggleable__label sk-toggleable__label-arrow\">XGBRegressor</label><div class=\"sk-toggleable__content\"><pre>XGBRegressor(base_score=None, booster=None, callbacks=None,\n",
       "             colsample_bylevel=None, colsample_bynode=None,\n",
       "             colsample_bytree=None, device=None, early_stopping_rounds=None,\n",
       "             enable_categorical=False, eval_metric=None, feature_types=None,\n",
       "             gamma=None, grow_policy=None, importance_type=None,\n",
       "             interaction_constraints=None, learning_rate=0.1, max_bin=None,\n",
       "             max_cat_threshold=None, max_cat_to_onehot=None,\n",
       "             max_delta_step=None, max_depth=6, max_leaves=None,\n",
       "             min_child_weight=None, missing=nan, monotone_constraints=None,\n",
       "             multi_strategy=None, n_estimators=100, n_jobs=-1,\n",
       "             num_parallel_tree=None, random_state=42, ...)</pre></div></div></div></div></div>"
      ],
      "text/plain": [
       "XGBRegressor(base_score=None, booster=None, callbacks=None,\n",
       "             colsample_bylevel=None, colsample_bynode=None,\n",
       "             colsample_bytree=None, device=None, early_stopping_rounds=None,\n",
       "             enable_categorical=False, eval_metric=None, feature_types=None,\n",
       "             gamma=None, grow_policy=None, importance_type=None,\n",
       "             interaction_constraints=None, learning_rate=0.1, max_bin=None,\n",
       "             max_cat_threshold=None, max_cat_to_onehot=None,\n",
       "             max_delta_step=None, max_depth=6, max_leaves=None,\n",
       "             min_child_weight=None, missing=nan, monotone_constraints=None,\n",
       "             multi_strategy=None, n_estimators=100, n_jobs=-1,\n",
       "             num_parallel_tree=None, random_state=42, ...)"
      ]
     },
     "execution_count": 5,
     "metadata": {},
     "output_type": "execute_result"
    }
   ],
   "source": [
    "import xgboost as xgb\n",
    "from sklearn.metrics import mean_squared_error, r2_score\n",
    "\n",
    "xgb_reg = xgb.XGBRegressor(\n",
    "    objective='reg:squarederror',\n",
    "    n_estimators=100,\n",
    "    max_depth=6,\n",
    "    learning_rate=0.1,\n",
    "    random_state=42,\n",
    "    n_jobs=-1\n",
    ")\n",
    "\n",
    "# Train the model\n",
    "xgb_reg.fit(X_train, y_train)\n"
   ]
  },
  {
   "cell_type": "code",
   "execution_count": 6,
   "metadata": {},
   "outputs": [
    {
     "name": "stdout",
     "output_type": "stream",
     "text": [
      "Test MSE: 4111874175.60\n",
      "Test R² Score: -0.68\n"
     ]
    }
   ],
   "source": [
    "# Predict on test set\n",
    "y_pred = xgb_reg.predict(X_val)\n",
    "\n",
    "# Evaluate\n",
    "mse = mean_squared_error(y_test, y_pred)\n",
    "r2 = r2_score(y_test, y_pred)\n",
    "\n",
    "print(f\"Test MSE: {mse:.2f}\")\n",
    "print(f\"Test R² Score: {r2:.2f}\")"
   ]
  },
  {
   "cell_type": "code",
   "execution_count": 7,
   "metadata": {},
   "outputs": [
    {
     "data": {
      "image/png": "[encoded data removed]",
      "text/plain": [
       "<Figure size 640x480 with 1 Axes>"
      ]
     },
     "metadata": {},
     "output_type": "display_data"
    }
   ],
   "source": [
    "import matplotlib.pyplot as plt\n",
    "import xgboost as xgb\n",
    "\n",
    "# Plot feature importances\n",
    "xgb.plot_importance(xgb_reg, max_num_features=10)\n",
    "plt.show()\n"
   ]
  },
  {
   "cell_type": "code",
   "execution_count": 8,
   "metadata": {},
   "outputs": [
    {
     "name": "stdout",
     "output_type": "stream",
     "text": [
      "qerror_50 (Median): 2.1025\n",
      "qerror_95: 7.6558\n",
      "qerror_max: 12.2812\n",
      "mean_qerror: 2.9087\n",
      "mre: 1.2210\n",
      "rmse: 64123.8971\n"
     ]
    }
   ],
   "source": [
    "import sys\n",
    "sys.path.append('/home/wuy/DB/pg_mem_pred_json')\n",
    "from src.training.metrics import compute_metrics\n",
    "metrics = compute_metrics(y_test, y_pred)\n",
    "for metric, value in metrics.items():\n",
    "    print(f\"{metric}: {value:.4f}\")"
   ]
  }
 ],
 "metadata": {
  "kernelspec": {
   "display_name": "zsce",
   "language": "python",
   "name": "python3"
  },
  "language_info": {
   "codemirror_mode": {
    "name": "ipython",
    "version": 3
   },
   "file_extension": ".py",
   "mimetype": "text/x-python",
   "name": "python",
   "nbconvert_exporter": "python",
   "pygments_lexer": "ipython3",
   "version": "3.8.13"
  }
 },
 "nbformat": 4,
 "nbformat_minor": 2
}
