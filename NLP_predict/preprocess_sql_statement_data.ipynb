{
 "cells": [
  {
   "cell_type": "code",
   "execution_count": null,
   "metadata": {
    "vscode": {
     "languageId": "plaintext"
    }
   },
   "outputs": [],
   "source": [
    "data_dir = '/home/wuy/DB/pg_mem_data'\n",
    "dataset = 'tpch_sf1'\n",
    "import pandas as pd\n",
    "df=pd.read_csv(f'{data_dir}/{dataset}/raw_data/mem_info.csv')\n",
    "data = []\n",
    "from tqdm import tqdm\n",
    "for row in tqdm(df.iterrows(), total=len(df)):\n",
    "    queryid = int(row[1]['queryid'])\n",
    "    with open(os.path.join(data_dir, dataset, 'raw_data', 'query_dir', f\"{queryid}.sql\")) as f:\n",
    "        query = f.read()\n",
    "    query=query.strip().replace('\"','').replace('\\\\','')\n",
    "    data.append({'query': query, 'queryid': queryid, 'query_mem': row[1]['peakmem'], 'query_time': row[1]['time']})\n",
    "with open('data.json', 'w') as f:\n",
    "    json.dump(data, f)"
   ]
  }
 ],
 "metadata": {
  "language_info": {
   "name": "python"
  }
 },
 "nbformat": 4,
 "nbformat_minor": 2
}
