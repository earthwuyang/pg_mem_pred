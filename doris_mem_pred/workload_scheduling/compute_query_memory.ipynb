{
 "cells": [
  {
   "cell_type": "code",
   "execution_count": null,
   "metadata": {},
   "outputs": [],
   "source": []
  },
  {
   "cell_type": "code",
   "execution_count": 2,
   "metadata": {},
   "outputs": [],
   "source": [
    "import json\n",
    "with open('../data.json', 'r') as f:\n",
    "    data = json.load(f)\n",
    "\n",
    "    "
   ]
  },
  {
   "cell_type": "code",
   "execution_count": 3,
   "metadata": {},
   "outputs": [
    {
     "name": "stdout",
     "output_type": "stream",
     "text": [
      "11.739801228046417\n"
     ]
    }
   ],
   "source": [
    "total_mem = 0\n",
    "for i in range(400):\n",
    "    total_mem += float(data[i]['peak_memory_bytes'])\n",
    "print(total_mem / 1024**3)"
   ]
  },
  {
   "cell_type": "code",
   "execution_count": 4,
   "metadata": {},
   "outputs": [],
   "source": [
    "def parse_profile(text):\n",
    "    for line in text.split('\\n'):\n",
    "        if 'PhysicalMemory(VmRSS)' in line:\n",
    "            cur_mem = line.split(':')[1].strip()\n",
    "            return float(cur_mem[:-3]) * 1024 # convert GB to MB"
   ]
  },
  {
   "cell_type": "code",
   "execution_count": null,
   "metadata": {},
   "outputs": [
    {
     "name": "stdout",
     "output_type": "stream",
     "text": [
      "Current memory usage: 2.10 GB\n"
     ]
    }
   ],
   "source": [
    "def parse_profile(text):\n",
    "    for line in text.split('\\n'):\n",
    "        if 'PhysicalMemory(VmRSS)' in line:\n",
    "            cur_mem = line.split(':')[1].strip()\n",
    "            return float(cur_mem[:-3]) * 1024 # convert GB to MB\n",
    "import requests\n",
    "\n",
    "# Replace with your BE host and port\n",
    "BE_HOST = '101.6.5.215'\n",
    "BE_PORT_list = [8040, 8042, 8043]\n",
    "cur_mem_total = 0\n",
    "for BE_PORT in BE_PORT_list:\n",
    "    metrics_url = f'http://{BE_HOST}:{BE_PORT}/profile'\n",
    "\n",
    "    try:\n",
    "        response = requests.get(metrics_url)\n",
    "        response.raise_for_status()\n",
    "        metrics_data = response.text\n",
    "    except requests.exceptions.RequestException as e:\n",
    "        print(f\"Error fetching metrics: {e}\")\n",
    "        metrics_data = None\n",
    "    if metrics_data:\n",
    "        # print(f\"metrics_data: {metrics_data}\")\n",
    "        current_mem = parse_profile(metrics_data)\n",
    "        cur_mem_total += current_mem\n",
    "\n",
    "return cur_mem_total"
   ]
  }
 ],
 "metadata": {
  "kernelspec": {
   "display_name": "zsce",
   "language": "python",
   "name": "python3"
  },
  "language_info": {
   "codemirror_mode": {
    "name": "ipython",
    "version": 3
   },
   "file_extension": ".py",
   "mimetype": "text/x-python",
   "name": "python",
   "nbconvert_exporter": "python",
   "pygments_lexer": "ipython3",
   "version": "3.8.13"
  }
 },
 "nbformat": 4,
 "nbformat_minor": 2
}
