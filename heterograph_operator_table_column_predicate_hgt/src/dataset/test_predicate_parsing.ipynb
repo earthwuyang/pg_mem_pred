{
 "cells": [
  {
   "cell_type": "code",
   "execution_count": 8,
   "metadata": {},
   "outputs": [],
   "source": [
    "from moz_sql_parser import parse\n",
    "\n",
    "# Define the predicate expression\n",
    "predicate = '(nation.n_regionkey < 2 or nation.n_name like \"%s\") and region.r_regionkey <> 1'\n",
    "\n",
    "# Embed the predicate into a dummy SELECT statement\n",
    "sql_query = f\"SELECT count(*) FROM dummy_table WHERE {predicate}\"\n",
    "\n",
    "# Parse the SQL query\n",
    "parsed = parse(sql_query)\n",
    "\n",
    "# Extract the WHERE clause\n",
    "where_clause = parsed.get('where', {})\n"
   ]
  },
  {
   "cell_type": "code",
   "execution_count": 9,
   "metadata": {},
   "outputs": [
    {
     "data": {
      "text/plain": [
       "{'and': [{'or': [{'lt': ['nation.n_regionkey', 2]},\n",
       "    {'like': ['nation.n_name', '%s']}]},\n",
       "  {'neq': ['region.r_regionkey', 1]}]}"
      ]
     },
     "execution_count": 9,
     "metadata": {},
     "output_type": "execute_result"
    }
   ],
   "source": [
    "where_clause"
   ]
  },
  {
   "cell_type": "code",
   "execution_count": 6,
   "metadata": {},
   "outputs": [
    {
     "data": {
      "text/plain": [
       "0"
      ]
     },
     "execution_count": 6,
     "metadata": {},
     "output_type": "execute_result"
    }
   ],
   "source": [
    "import torch\n",
    "from torch_geometric.data import HeteroData\n",
    "\n",
    "# Initialize node lists and edge lists\n",
    "operation_nodes = []\n",
    "literal_nodes = []\n",
    "numeral_nodes = []\n",
    "column_nodes = []\n",
    "edges = []\n",
    "\n",
    "# Node ID counter\n",
    "node_id = 0\n",
    "\n",
    "# Mapping from node to its unique ID\n",
    "node_map = {}\n",
    "\n",
    "def traverse(parsed_dict, parent_id=None):\n",
    "    global node_id\n",
    "    current_id = node_id\n",
    "    node_map[id(parsed_dict)] = current_id\n",
    "    node_id += 1\n",
    "\n",
    "    # Categorize the node based on its keys\n",
    "    if 'and' in parsed_dict:\n",
    "        operation = 'AND'\n",
    "        operation_nodes.append({'id': current_id, 'op': operation})\n",
    "        # The value is a list of conditions\n",
    "        conditions = parsed_dict['and']\n",
    "        for condition in conditions:\n",
    "            child_id = traverse(condition, current_id)\n",
    "            edges.append((current_id, child_id))\n",
    "    elif 'or' in parsed_dict:\n",
    "        operation = 'OR'\n",
    "        operation_nodes.append({'id': current_id, 'op': operation})\n",
    "        conditions = parsed_dict['or']\n",
    "        for condition in conditions:\n",
    "            child_id = traverse(condition, current_id)\n",
    "            edges.append((current_id, child_id))\n",
    "    elif 'not' in parsed_dict:\n",
    "        operation = 'NOT'\n",
    "        operation_nodes.append({'id': current_id, 'op': operation})\n",
    "        condition = parsed_dict['not']\n",
    "        child_id = traverse(condition, current_id)\n",
    "        edges.append((current_id, child_id))\n",
    "    else:\n",
    "        # It's a comparison operation\n",
    "        # Identify the operation type\n",
    "        if 'eq' in parsed_dict:\n",
    "            op = '='\n",
    "            left, right = parsed_dict['eq']\n",
    "        elif 'neq' in parsed_dict:\n",
    "            op = '<>'\n",
    "            left, right = parsed_dict['neq']\n",
    "        elif 'gt' in parsed_dict:\n",
    "            op = '>'\n",
    "            left, right = parsed_dict['gt']\n",
    "        elif 'gte' in parsed_dict:\n",
    "            op = '>='\n",
    "            left, right = parsed_dict['gte']\n",
    "        elif 'lt' in parsed_dict:\n",
    "            op = '<'\n",
    "            left, right = parsed_dict['lt']\n",
    "        elif 'lte' in parsed_dict:\n",
    "            op = '<='\n",
    "            left, right = parsed_dict['lte']\n",
    "        elif 'like' in parsed_dict:\n",
    "            op = 'LIKE'\n",
    "            left, right = parsed_dict['like']\n",
    "        else:\n",
    "            op = 'UNKNOWN'\n",
    "\n",
    "        operation_nodes.append({'id': current_id, 'op': op})\n",
    "\n",
    "        # Process left operand\n",
    "        if isinstance(left, dict):\n",
    "            left_id = traverse(left, current_id)\n",
    "        else:\n",
    "            left_id = add_leaf_node(left, current_id)\n",
    "\n",
    "        # Process right operand\n",
    "        if isinstance(right, dict):\n",
    "            right_id = traverse(right, current_id)\n",
    "        else:\n",
    "            right_id = add_leaf_node(right, current_id)\n",
    "\n",
    "        # Establish edges\n",
    "        edges.append((current_id, left_id))\n",
    "        edges.append((current_id, right_id))\n",
    "\n",
    "    return current_id\n",
    "\n",
    "def add_leaf_node(value, parent_id):\n",
    "    global node_id\n",
    "    current_id = node_id\n",
    "    node_map[id(value)] = current_id\n",
    "    node_id += 1\n",
    "\n",
    "    if isinstance(value, dict):\n",
    "        # Handle nested expressions if any\n",
    "        child_id = traverse(value, parent_id)\n",
    "        edges.append((current_id, child_id))\n",
    "    elif isinstance(value, (int, float)):\n",
    "        numeral_nodes.append({'id': current_id, 'value': float(value)})\n",
    "    elif isinstance(value, str):\n",
    "        # Check if it's a column or a string literal\n",
    "        if value.startswith('%') or value.startswith('\"') or '%' in value or '_' in value:\n",
    "            literal_nodes.append({'id': current_id, 'value': value.strip('\"')})\n",
    "        else:\n",
    "            column_nodes.append({'id': current_id, 'name': value})\n",
    "    else:\n",
    "        # Handle other types if necessary\n",
    "        pass\n",
    "\n",
    "    # Establish edge from parent\n",
    "    if parent_id is not None:\n",
    "        edges.append((parent_id, current_id))\n",
    "\n",
    "    return current_id\n",
    "\n",
    "# Start traversal from the WHERE clause\n",
    "traverse(where_clause)\n"
   ]
  },
  {
   "cell_type": "code",
   "execution_count": null,
   "metadata": {},
   "outputs": [],
   "source": []
  }
 ],
 "metadata": {
  "kernelspec": {
   "display_name": "zsce",
   "language": "python",
   "name": "python3"
  },
  "language_info": {
   "codemirror_mode": {
    "name": "ipython",
    "version": 3
   },
   "file_extension": ".py",
   "mimetype": "text/x-python",
   "name": "python",
   "nbconvert_exporter": "python",
   "pygments_lexer": "ipython3",
   "version": "3.8.13"
  }
 },
 "nbformat": 4,
 "nbformat_minor": 2
}
