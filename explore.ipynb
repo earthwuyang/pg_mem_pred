{
 "cells": [
  {
   "cell_type": "code",
   "execution_count": null,
   "metadata": {},
   "outputs": [],
   "source": [
    "import os\n",
    "import sys\n",
    "import psycopg2\n",
    "from tqdm import tqdm\n",
    "\n",
    "conn_params = {\n",
    "    \"dbname\": \"tpc_h\",\n",
    "    \"user\": \"wuy\",\n",
    "    \"password\": \"\",\n",
    "    \"host\": \"localhost\"\n",
    "}\n",
    " \n",
    "# 连接到数据库\n",
    "conn = psycopg2.connect(**conn_params)\n",
    "\n"
   ]
  },
  {
   "cell_type": "code",
   "execution_count": null,
   "metadata": {},
   "outputs": [],
   "source": [
    "cur = conn.cursor()\n",
    "cur.execute(\" select * from region;\")\n",
    "rows = cur.fetchall()\n",
    "cur.close()"
   ]
  },
  {
   "cell_type": "code",
   "execution_count": null,
   "metadata": {},
   "outputs": [],
   "source": [
    "cur = conn.cursor()\n",
    "cur.execute(\"SET log_statement_stats = on\")\n",
    "cur.close()"
   ]
  },
  {
   "cell_type": "code",
   "execution_count": null,
   "metadata": {},
   "outputs": [],
   "source": [
    "cur = conn.cursor()\n",
    "cur.execute(\" select * from nation;\")\n",
    "rows = cur.fetchall()\n",
    "cur.close()"
   ]
  },
  {
   "cell_type": "code",
   "execution_count": null,
   "metadata": {},
   "outputs": [],
   "source": [
    "conn.close()\n",
    "conn = psycopg2.connect(**conn_params)\n",
    "cur = conn.cursor()\n",
    "cur.execute(\"SET log_statement_stats = on\")\n",
    "cur.execute(\"SELECT * FROM customer\")\n",
    "rows = cur.fetchall()\n",
    "cur.close()\n",
    "conn.close()\n"
   ]
  }
 ],
 "metadata": {
  "language_info": {
   "name": "python"
  }
 },
 "nbformat": 4,
 "nbformat_minor": 2
}
